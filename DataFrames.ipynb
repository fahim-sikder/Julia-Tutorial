{
 "cells": [
  {
   "cell_type": "markdown",
   "metadata": {},
   "source": [
    "## DataFrames\n",
    "\n",
    "In order to use DataFrames in Julia we need to first add `DataFrames` packages into the system.\n",
    "\n",
    "```julia\n",
    "\n",
    "using Pkg\n",
    "Pkg.add(\"DataFrames\")\n",
    "\n",
    "```\n",
    "\n",
    "After adding the pakage into the system then we need to import it into our environment.\n",
    "\n",
    "```julia\n",
    "using DataFrames\n",
    "```\n",
    "\n",
    "So, to create a dataframe we need to use the `DataFrame` method. Suppose we want to create a dataframe using a `Integer` type coloumn and a `String` type column."
   ]
  },
  {
   "cell_type": "code",
   "execution_count": 1,
   "metadata": {},
   "outputs": [],
   "source": [
    "using DataFrames"
   ]
  },
  {
   "cell_type": "code",
   "execution_count": 3,
   "metadata": {},
   "outputs": [
    {
     "name": "stdout",
     "output_type": "stream",
     "text": [
      "4×2 DataFrame\n",
      "│ Row │ A     │ B      │\n",
      "│     │ \u001b[90mInt64\u001b[39m │ \u001b[90mString\u001b[39m │\n",
      "├─────┼───────┼────────┤\n",
      "│ 1   │ 1     │ A      │\n",
      "│ 2   │ 2     │ B      │\n",
      "│ 3   │ 3     │ C      │\n",
      "│ 4   │ 4     │ D      │"
     ]
    }
   ],
   "source": [
    "df = DataFrame(A = [1,2,3,4], B = [\"A\", \"B\", \"C\", \"D\"])\n",
    "print(df)"
   ]
  },
  {
   "cell_type": "markdown",
   "metadata": {},
   "source": [
    "In order to see the name of columns of a dataframe we need to use `names` method."
   ]
  },
  {
   "cell_type": "code",
   "execution_count": 6,
   "metadata": {},
   "outputs": [
    {
     "data": {
      "text/plain": [
       "2-element Array{String,1}:\n",
       " \"A\"\n",
       " \"B\""
      ]
     },
     "execution_count": 6,
     "metadata": {},
     "output_type": "execute_result"
    }
   ],
   "source": [
    "names(df)"
   ]
  },
  {
   "cell_type": "code",
   "execution_count": null,
   "metadata": {},
   "outputs": [],
   "source": []
  },
  {
   "cell_type": "code",
   "execution_count": null,
   "metadata": {},
   "outputs": [],
   "source": []
  },
  {
   "cell_type": "markdown",
   "metadata": {},
   "source": [
    "We also can create an empty dataframe just callling the `DataFrame` method."
   ]
  },
  {
   "cell_type": "code",
   "execution_count": 13,
   "metadata": {},
   "outputs": [
    {
     "name": "stdout",
     "output_type": "stream",
     "text": [
      "0×0 DataFrame\n"
     ]
    }
   ],
   "source": [
    "df1 = DataFrame()\n",
    "print(df1)"
   ]
  },
  {
   "cell_type": "markdown",
   "metadata": {},
   "source": [
    "We can add data into these dataframes by inserting using columns and again inserting by row. To insert using column, we need to access that column by using `dataframe_name.column_name`. Suppose here we have `df1` dataframe, and it has two columns `A` and `B`. So to access those columns to insert the data we need to use like this: `df1.A`. We also can access columns by using `dataframe_name.\"column_name\"`."
   ]
  },
  {
   "cell_type": "code",
   "execution_count": 14,
   "metadata": {},
   "outputs": [
    {
     "name": "stdout",
     "output_type": "stream",
     "text": [
      "4×2 DataFrame\n",
      "│ Row │ A     │ B       │\n",
      "│     │ \u001b[90mInt64\u001b[39m │ \u001b[90mFloat64\u001b[39m │\n",
      "├─────┼───────┼─────────┤\n",
      "│ 1   │ 1     │ 0.1     │\n",
      "│ 2   │ 2     │ 0.5     │\n",
      "│ 3   │ 3     │ 0.6     │\n",
      "│ 4   │ 4     │ 1.1     │"
     ]
    }
   ],
   "source": [
    "df1.A = [1, 2, 3, 4]\n",
    "df1.B = [0.1, 0.5, 0.6, 1.1]\n",
    "print(df1)"
   ]
  },
  {
   "cell_type": "markdown",
   "metadata": {},
   "source": [
    "To insert data by row we need to use `push!` function and pass a tupple of data we want to insert. Like this: `push!(dataframe_name, (column1_data, column2_data,...)`"
   ]
  },
  {
   "cell_type": "code",
   "execution_count": 15,
   "metadata": {},
   "outputs": [
    {
     "name": "stdout",
     "output_type": "stream",
     "text": [
      "5×2 DataFrame\n",
      "│ Row │ A     │ B       │\n",
      "│     │ \u001b[90mInt64\u001b[39m │ \u001b[90mFloat64\u001b[39m │\n",
      "├─────┼───────┼─────────┤\n",
      "│ 1   │ 1     │ 0.1     │\n",
      "│ 2   │ 2     │ 0.5     │\n",
      "│ 3   │ 3     │ 0.6     │\n",
      "│ 4   │ 4     │ 1.1     │\n",
      "│ 5   │ 33    │ 0.454   │"
     ]
    }
   ],
   "source": [
    "push!(df1, (33, 0.454))\n",
    "\n",
    "print(df1)"
   ]
  },
  {
   "cell_type": "markdown",
   "metadata": {},
   "source": [
    "We can see the size of the dataframe by using `size` function."
   ]
  },
  {
   "cell_type": "code",
   "execution_count": 16,
   "metadata": {},
   "outputs": [
    {
     "data": {
      "text/plain": [
       "(5, 2)"
      ]
     },
     "execution_count": 16,
     "metadata": {},
     "output_type": "execute_result"
    }
   ],
   "source": [
    "size(df1)"
   ]
  },
  {
   "cell_type": "code",
   "execution_count": null,
   "metadata": {},
   "outputs": [],
   "source": []
  }
 ],
 "metadata": {
  "kernelspec": {
   "display_name": "Julia 1.4.1",
   "language": "julia",
   "name": "julia-1.4"
  },
  "language_info": {
   "file_extension": ".jl",
   "mimetype": "application/julia",
   "name": "julia",
   "version": "1.4.1"
  }
 },
 "nbformat": 4,
 "nbformat_minor": 4
}
