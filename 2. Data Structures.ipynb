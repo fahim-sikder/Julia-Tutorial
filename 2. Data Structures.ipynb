{
 "cells": [
  {
   "cell_type": "markdown",
   "metadata": {},
   "source": [
    "## Data Structures\n",
    "\n",
    "In this notebook we will see about `Julia's` data structure. Namely,\n",
    "\n",
    "1. Tubples\n",
    "2. Array\n",
    "3. Sets\n",
    "4. Dictionaries\n",
    "\n",
    "### Tuples\n",
    "\n",
    "Lets first discuss about `Tuples`. Tuples and Array can hold list of elements. But the basic difference between them is, Tuple is immutable. It means that, we can't change the value of a tuple once it's created. We can create a tuple by giving some ordered elements into a paranthesis `( )`. The syntax of a tuple is as follows:\n",
    "\n",
    "```julia\n",
    "(item1, item2, itme3, ...)\n",
    "```\n",
    "\n",
    "Let's see an example. Suppose we want to create a tuple"
   ]
  },
  {
   "cell_type": "code",
   "execution_count": null,
   "metadata": {},
   "outputs": [],
   "source": []
  },
  {
   "cell_type": "code",
   "execution_count": null,
   "metadata": {},
   "outputs": [],
   "source": []
  },
  {
   "cell_type": "code",
   "execution_count": null,
   "metadata": {},
   "outputs": [],
   "source": []
  },
  {
   "cell_type": "code",
   "execution_count": null,
   "metadata": {},
   "outputs": [],
   "source": []
  },
  {
   "cell_type": "code",
   "execution_count": null,
   "metadata": {},
   "outputs": [],
   "source": []
  },
  {
   "cell_type": "code",
   "execution_count": 17,
   "metadata": {},
   "outputs": [
    {
     "name": "stdout",
     "output_type": "stream",
     "text": [
      "[1 2; 2 3; 42 2]"
     ]
    }
   ],
   "source": [
    "arr = [1 2; 2 3 ;42 2]\n",
    "print(arr)"
   ]
  },
  {
   "cell_type": "code",
   "execution_count": 18,
   "metadata": {},
   "outputs": [
    {
     "data": {
      "text/plain": [
       "Array{Int64,2}"
      ]
     },
     "execution_count": 18,
     "metadata": {},
     "output_type": "execute_result"
    }
   ],
   "source": [
    "typeof(arr)"
   ]
  },
  {
   "cell_type": "code",
   "execution_count": 7,
   "metadata": {},
   "outputs": [
    {
     "name": "stdout",
     "output_type": "stream",
     "text": [
      "[0.7407932248591669 0.1821643648332374; 0.5125020580792754 0.04345444026119605]"
     ]
    }
   ],
   "source": [
    "a = rand(2,2)\n",
    "print(a)"
   ]
  },
  {
   "cell_type": "code",
   "execution_count": 20,
   "metadata": {},
   "outputs": [
    {
     "name": "stdout",
     "output_type": "stream",
     "text": [
      "[1 1 1 1; 1 1 1 1; 1 1 1 1]"
     ]
    }
   ],
   "source": [
    "A = fill(1, (3,4))\n",
    "print(A)"
   ]
  },
  {
   "cell_type": "code",
   "execution_count": null,
   "metadata": {},
   "outputs": [],
   "source": []
  }
 ],
 "metadata": {
  "kernelspec": {
   "display_name": "Julia 1.4.2",
   "language": "julia",
   "name": "julia-1.4"
  },
  "language_info": {
   "file_extension": ".jl",
   "mimetype": "application/julia",
   "name": "julia",
   "version": "1.4.2"
  }
 },
 "nbformat": 4,
 "nbformat_minor": 4
}
