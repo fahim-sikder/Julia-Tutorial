{
 "cells": [
  {
   "cell_type": "markdown",
   "metadata": {},
   "source": [
    "## Conditional Statements\n",
    "\n",
    "The basic structure of `Julia` conditional statement with `if` keyword is as follows:\n",
    "\n",
    "```julia\n",
    "\n",
    "if(condition 1)\n",
    "    **statement 1**\n",
    "elseif(condition 2)\n",
    "    **statement 2**\n",
    "else\n",
    "    **statement 3**\n",
    "end\n",
    "\n",
    "```\n",
    "\n",
    "Let's see an example. Suppose we are trying to find if a particular given integer is Even or Odd."
   ]
  },
  {
   "cell_type": "code",
   "execution_count": 1,
   "metadata": {},
   "outputs": [
    {
     "name": "stdout",
     "output_type": "stream",
     "text": [
      "2 is even!!\n"
     ]
    }
   ],
   "source": [
    "test = 2\n",
    "\n",
    "if(test%2==0)\n",
    "    println(\"$test is even!!\")\n",
    "else\n",
    "    println(\"$test is odd!!\")\n",
    "end"
   ]
  },
  {
   "cell_type": "markdown",
   "metadata": {},
   "source": [
    "#### Conditional statements using ternary operators\n",
    "\n",
    "We also can use ternary operators to do the conditional statemens.\n",
    "\n",
    "The syntax is follows:\n",
    "\n",
    "```julia\n",
    "\n",
    "condition ? **statement 1** : **statement 2**\n",
    "\n",
    "```\n",
    "\n",
    "So, if the condition is true then the **statement 1** will execute otherwise **statement 2** will execute.\n",
    "\n",
    "Let's implement the same example but this time using ternary operators."
   ]
  },
  {
   "cell_type": "code",
   "execution_count": 2,
   "metadata": {},
   "outputs": [
    {
     "name": "stdout",
     "output_type": "stream",
     "text": [
      "3 is odd!!\n"
     ]
    }
   ],
   "source": [
    "test = 3\n",
    "\n",
    "(test%2==0) ? println(\"$test is even!!\") : println(\"$test is odd!!\")"
   ]
  },
  {
   "cell_type": "markdown",
   "metadata": {},
   "source": [
    "Ok, let's try some complex conditional statements. \n",
    "\n",
    "Suppose we want to implement the following statements:\n",
    "\n",
    "Marks | Grade \n",
    "--- | ---\n",
    "80 - 100 | A+\n",
    "75 - 79 | A\n",
    "70 - 74 | A-\n",
    "65 - 69 | B+\n",
    "40 - 64 | PASS\n",
    "0 - 39 | FAIL\n",
    "\n",
    "Let's see how we can do that."
   ]
  },
  {
   "cell_type": "code",
   "execution_count": 3,
   "metadata": {},
   "outputs": [
    {
     "name": "stdout",
     "output_type": "stream",
     "text": [
      "stdin> 18\n",
      "FAIL\n"
     ]
    }
   ],
   "source": [
    "marks = parse(Int64, readline())\n",
    "\n",
    "if(marks>= 80 && marks <=100)\n",
    "    println(\"A+\")\n",
    "    \n",
    "elseif(marks>= 75 && marks <=79)\n",
    "    println(\"A\")\n",
    "    \n",
    "elseif(marks>= 70 && marks <=74)\n",
    "    println(\"A-\")\n",
    "    \n",
    "elseif(marks>= 65 && marks <=69)\n",
    "    println(\"B+\")\n",
    "    \n",
    "elseif(marks>= 40 && marks <=64)\n",
    "    println(\"PASS\")\n",
    "    \n",
    "else\n",
    "    println(\"FAIL\")\n",
    "    \n",
    "end"
   ]
  },
  {
   "cell_type": "markdown",
   "metadata": {},
   "source": [
    "So, that's it. Keep practicing.\n",
    "\n",
    "Good Luck, may the Julia be with you!!"
   ]
  }
 ],
 "metadata": {
  "kernelspec": {
   "display_name": "Julia 1.4.1",
   "language": "julia",
   "name": "julia-1.4"
  },
  "language_info": {
   "file_extension": ".jl",
   "mimetype": "application/julia",
   "name": "julia",
   "version": "1.4.1"
  }
 },
 "nbformat": 4,
 "nbformat_minor": 4
}
