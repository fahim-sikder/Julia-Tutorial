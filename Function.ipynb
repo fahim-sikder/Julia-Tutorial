{
 "cells": [
  {
   "cell_type": "markdown",
   "metadata": {},
   "source": [
    "# Function\n",
    "\n",
    "In this notebook, we will going to learn how to define and use function in `Julia`. There are two ways of declaring function in `Julia`.\n",
    "\n",
    "1. Single Line\n",
    "2. Multi Line\n",
    "\n",
    "The architecture of the `single line` method is like this.\n",
    "\n",
    "```julia\n",
    "\n",
    "function_name(parameters) = **Function-body**\n",
    "\n",
    "```\n",
    "There could be multiple expression in a single function and we can seperate them by using `;`.\n",
    "\n",
    "Let's see an example."
   ]
  },
  {
   "cell_type": "code",
   "execution_count": 1,
   "metadata": {},
   "outputs": [
    {
     "name": "stdout",
     "output_type": "stream",
     "text": [
      "the output of 2 is: \n",
      "last line\n",
      "13\n"
     ]
    }
   ],
   "source": [
    "myfunc(a,b) = (println(\"the output of $a is: \") ;  l = 2a+3b ; println(\"last line\") ; l)\n",
    "\n",
    "println(myfunc(2,3))"
   ]
  },
  {
   "cell_type": "markdown",
   "metadata": {},
   "source": [
    "Here, in this  single line function we have taken two parameters. And this function has 4 expressions. First expression is just a print line. Then we have some calculation and store the result into a variable `l`, then again a print a line and in the last expression we have return the variable `l`. Though we did not write any keyword return but generally in `Julia` the last line of a function represents a `return` statement. So, we don't need to add the keyword `return`.\n",
    "\n",
    "Now lets see the architecture of the `Multi line` function.\n",
    "\n",
    "```julia\n",
    "\n",
    "function function_name(parameters)\n",
    "    \n",
    "    **body-of-the-function**\n",
    "\n",
    "end\n",
    "\n",
    "```\n",
    "\n",
    "Here we can see that, to write a `multi line` function we need to write `function` keyword. Then the function name and at the end we need to add the `end` keyword.\n",
    "\n",
    "Now, lets see an example."
   ]
  },
  {
   "cell_type": "code",
   "execution_count": 2,
   "metadata": {},
   "outputs": [
    {
     "name": "stdout",
     "output_type": "stream",
     "text": [
      "The value of a is 1, b is 2 and c is 3\n",
      "13\n"
     ]
    }
   ],
   "source": [
    "function funcc(a, b, c)\n",
    "    \n",
    "    println(\"The value of a is $a, b is $b and c is $c\")\n",
    "    \n",
    "    d = a + b * 2c\n",
    "    \n",
    "end\n",
    "\n",
    "res = funcc(1,2,3)\n",
    "\n",
    "println(res)"
   ]
  },
  {
   "cell_type": "code",
   "execution_count": 3,
   "metadata": {},
   "outputs": [
    {
     "name": "stdout",
     "output_type": "stream",
     "text": [
      "search: \u001b[0m\u001b[1mf\u001b[22m\u001b[0m\u001b[1mu\u001b[22m\u001b[0m\u001b[1mn\u001b[22m\u001b[0m\u001b[1mc\u001b[22m\u001b[0m\u001b[1mc\u001b[22m \u001b[0m\u001b[1mf\u001b[22m\u001b[0m\u001b[1mu\u001b[22m\u001b[0m\u001b[1mn\u001b[22m\u001b[0m\u001b[1mc\u001b[22mtionlo\u001b[0m\u001b[1mc\u001b[22m @\u001b[0m\u001b[1mf\u001b[22m\u001b[0m\u001b[1mu\u001b[22m\u001b[0m\u001b[1mn\u001b[22m\u001b[0m\u001b[1mc\u001b[22mtionlo\u001b[0m\u001b[1mc\u001b[22m \u001b[0m\u001b[1mf\u001b[22m\u001b[0m\u001b[1mu\u001b[22m\u001b[0m\u001b[1mn\u001b[22m\u001b[0m\u001b[1mc\u001b[22mtion \u001b[0m\u001b[1mF\u001b[22m\u001b[0m\u001b[1mu\u001b[22m\u001b[0m\u001b[1mn\u001b[22m\u001b[0m\u001b[1mc\u001b[22mtion my\u001b[0m\u001b[1mf\u001b[22m\u001b[0m\u001b[1mu\u001b[22m\u001b[0m\u001b[1mn\u001b[22m\u001b[0m\u001b[1mc\u001b[22m @c\u001b[0m\u001b[1mf\u001b[22m\u001b[0m\u001b[1mu\u001b[22m\u001b[0m\u001b[1mn\u001b[22m\u001b[0m\u001b[1mc\u001b[22mtion\n",
      "\n"
     ]
    },
    {
     "data": {
      "text/latex": [
       "No documentation found.\n",
       "\n",
       "\\texttt{funcc} is a \\texttt{Function}.\n",
       "\n",
       "\\begin{verbatim}\n",
       "# 1 method for generic function \"funcc\":\n",
       "[1] funcc(a, b, c) in Main at In[2]:3\n",
       "\\end{verbatim}\n"
      ],
      "text/markdown": [
       "No documentation found.\n",
       "\n",
       "`funcc` is a `Function`.\n",
       "\n",
       "```\n",
       "# 1 method for generic function \"funcc\":\n",
       "[1] funcc(a, b, c) in Main at In[2]:3\n",
       "```\n"
      ],
      "text/plain": [
       "  No documentation found.\n",
       "\n",
       "  \u001b[36mfuncc\u001b[39m is a \u001b[36mFunction\u001b[39m.\n",
       "\n",
       "\u001b[36m  # 1 method for generic function \"funcc\":\u001b[39m\n",
       "\u001b[36m  [1] funcc(a, b, c) in Main at In[2]:3\u001b[39m"
      ]
     },
     "execution_count": 3,
     "metadata": {},
     "output_type": "execute_result"
    }
   ],
   "source": [
    "? funcc"
   ]
  },
  {
   "cell_type": "markdown",
   "metadata": {},
   "source": [
    "**This notebook will continue.**"
   ]
  },
  {
   "cell_type": "code",
   "execution_count": null,
   "metadata": {},
   "outputs": [],
   "source": []
  }
 ],
 "metadata": {
  "kernelspec": {
   "display_name": "Julia 1.4.1",
   "language": "julia",
   "name": "julia-1.4"
  },
  "language_info": {
   "file_extension": ".jl",
   "mimetype": "application/julia",
   "name": "julia",
   "version": "1.4.1"
  }
 },
 "nbformat": 4,
 "nbformat_minor": 2
}
