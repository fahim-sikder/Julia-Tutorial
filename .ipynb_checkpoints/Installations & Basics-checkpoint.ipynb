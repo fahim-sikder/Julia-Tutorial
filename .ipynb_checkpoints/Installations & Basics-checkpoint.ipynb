{
 "cells": [
  {
   "cell_type": "markdown",
   "metadata": {},
   "source": [
    "## Introduction, Installations, and Basics\n",
    "\n",
    "`Julia` is a open source programming language. To install it you need to download it's binary from [here](https://julialang.org/downloads/). We are going to use `Jupyter Notebook` as the code editor. But to do that we need to link the `Jupyter Notebook` with `Julia`. After installing `Julia`, open the Julia Command prompt. Then type the following code:\n",
    "\n",
    "```julia\n",
    "\n",
    "using Pkg\n",
    "Pkg.add(\"IJulia\")\n",
    "\n",
    "\n",
    "```\n",
    "\n",
    "These will integrate `Julia` environment with `Jupyter Notebbok`.\n",
    "\n",
    "N.B: We are assuming that your system has already Jupyter notebook installed.\n",
    "\n",
    "\n",
    "`Julia` file has `.jl` extensions. It's time to write our first program. We will print `Hello Julia!`. The print function in `julia` is `println`."
   ]
  },
  {
   "cell_type": "code",
   "execution_count": 1,
   "metadata": {},
   "outputs": [
    {
     "name": "stdout",
     "output_type": "stream",
     "text": [
      "Hello Julia!\n"
     ]
    }
   ],
   "source": [
    "println(\"Hello Julia!\")"
   ]
  },
  {
   "cell_type": "markdown",
   "metadata": {},
   "source": [
    "Congratulations! We have just run your first program in `Julia`. \n",
    "\n",
    "### Variables & Data Types\n",
    "\n",
    "`Julia` support 5 basic data types. \n",
    "\n",
    "1. Integer\n",
    "2. Float\n",
    "3. String\n",
    "4. Character\n",
    "5. Boolean\n",
    "\n",
    "We can easily declare a variable just assigining the value in it. We don't need to give the datatype when declaring a variable. Also we can see what is the datatype of a variable by using `typeof` function. Lets see an example."
   ]
  },
  {
   "cell_type": "code",
   "execution_count": 5,
   "metadata": {},
   "outputs": [
    {
     "name": "stdout",
     "output_type": "stream",
     "text": [
      "Int64\n",
      "Float64\n",
      "Bool\n",
      "String\n",
      "Char\n"
     ]
    }
   ],
   "source": [
    "first = 1\n",
    "\n",
    "println(typeof(first))\n",
    "\n",
    "second = 22.0\n",
    "\n",
    "println(typeof(second))\n",
    "\n",
    "third = true\n",
    "println(typeof(third))\n",
    "\n",
    "fourth = \"Hello World!\"\n",
    "println(typeof(fourth))\n",
    "\n",
    "fifth = 'L'\n",
    "println(typeof(fifth))"
   ]
  },
  {
   "cell_type": "markdown",
   "metadata": {},
   "source": [
    "`String` needs to be in double quotes or triple quotes. If we put `String` in single quote, it will show error. Only `Character` will be in single quote."
   ]
  },
  {
   "cell_type": "code",
   "execution_count": 6,
   "metadata": {},
   "outputs": [
    {
     "ename": "LoadError",
     "evalue": "syntax: invalid character literal",
     "output_type": "error",
     "traceback": [
      "syntax: invalid character literal",
      ""
     ]
    }
   ],
   "source": [
    "#This is an intenional error\n",
    "\n",
    "strr = 'Hello world'\n",
    "println(strr)"
   ]
  },
  {
   "cell_type": "markdown",
   "metadata": {},
   "source": [
    "### Constant\n",
    "\n",
    "To declare a constant we need to use `const` keyword. After defining a constant we can redefine it but it will give us a warning. We onlu can redefine in the same datatype. Suppose: we created a constant with integer datatype with a value so we can redefine with another integer value though it will give a warning, but we can not redefine with another datatype. It will give an error."
   ]
  },
  {
   "cell_type": "code",
   "execution_count": 7,
   "metadata": {},
   "outputs": [
    {
     "name": "stdout",
     "output_type": "stream",
     "text": [
      "2\n",
      "3\n"
     ]
    },
    {
     "name": "stderr",
     "output_type": "stream",
     "text": [
      "WARNING: redefining constant var1\n"
     ]
    },
    {
     "ename": "ErrorException",
     "evalue": "invalid redefinition of constant var1",
     "output_type": "error",
     "traceback": [
      "invalid redefinition of constant var1",
      "",
      "Stacktrace:",
      " [1] top-level scope at In[7]:5"
     ]
    }
   ],
   "source": [
    "const var1 = 2\n",
    "println(var1)\n",
    "var1 = 3\n",
    "println(var1)\n",
    "\n",
    "#this will give error\n",
    "var1 = 4.9\n",
    "println(var1)"
   ]
  },
  {
   "cell_type": "markdown",
   "metadata": {},
   "source": [
    "### Strings\n",
    "\n",
    "As we have mentioned earlier, `String` needs to be in double or triple quotes.\n",
    "\n",
    "```julia\n",
    "mystr = \"Hey this is a string\"\n",
    "\n",
    "mystr2 = \"\"\"\n",
    "    this is a multiple line string\n",
    "    this string has 2 lines\n",
    "    \"\"\"\n",
    "\n",
    "```\n",
    "\n",
    "We can see the length of a string using the `length` function."
   ]
  },
  {
   "cell_type": "code",
   "execution_count": 12,
   "metadata": {},
   "outputs": [
    {
     "name": "stdout",
     "output_type": "stream",
     "text": [
      "20\n"
     ]
    }
   ],
   "source": [
    "mystr = \"Hey this is a string\"\n",
    "\n",
    "println(length(mystr))"
   ]
  },
  {
   "cell_type": "markdown",
   "metadata": {},
   "source": [
    "We can "
   ]
  }
 ],
 "metadata": {
  "kernelspec": {
   "display_name": "Julia 1.4.1",
   "language": "julia",
   "name": "julia-1.4"
  },
  "language_info": {
   "file_extension": ".jl",
   "mimetype": "application/julia",
   "name": "julia",
   "version": "1.4.1"
  }
 },
 "nbformat": 4,
 "nbformat_minor": 2
}
