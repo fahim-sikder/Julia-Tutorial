{
 "cells": [
  {
   "cell_type": "markdown",
   "metadata": {},
   "source": [
    "## Introduction, Installations, and Basics\n",
    "\n",
    "`Julia` is a open source programming language. To install it you need to download it's binary from [here](https://julialang.org/downloads/). We are going to use `Jupyter Notebook` as the code editor. But to do that we need to link the `Jupyter Notebook` with `Julia`. After installing `Julia`, open the Julia Command prompt. Then type the following code:\n",
    "\n",
    "```julia\n",
    "\n",
    "using Pkg\n",
    "Pkg.add(\"IJulia\")\n",
    "\n",
    "\n",
    "```\n",
    "\n",
    "These will integrate `Julia` environment with `Jupyter Notebbok`.\n",
    "\n",
    "N.B: We are assuming that your system has already Jupyter notebook installed.\n",
    "\n",
    "\n",
    "`Julia` file has `.jl` extensions. It's time to write our first program. We will print `Hello Julia!`. The print function in `julia` is `println`."
   ]
  },
  {
   "cell_type": "code",
   "execution_count": 1,
   "metadata": {},
   "outputs": [
    {
     "name": "stdout",
     "output_type": "stream",
     "text": [
      "Hello Julia!\n"
     ]
    }
   ],
   "source": [
    "println(\"Hello Julia!\")"
   ]
  },
  {
   "cell_type": "markdown",
   "metadata": {},
   "source": [
    "Congratulations! We have just run your first program in `Julia`. \n",
    "\n",
    "### Variables & Data Types\n",
    "\n",
    "`Julia` support 5 basic data types. \n",
    "\n",
    "1. Integer\n",
    "2. Float\n",
    "3. String\n",
    "4. Character\n",
    "5. Boolean\n",
    "\n",
    "We can easily declare a variable just assigining the value in it. We don't need to give the datatype when declaring a variable. Also we can see what is the datatype of a variable by using `typeof` function. Lets see an example."
   ]
  },
  {
   "cell_type": "code",
   "execution_count": 2,
   "metadata": {},
   "outputs": [
    {
     "name": "stdout",
     "output_type": "stream",
     "text": [
      "Int64\n",
      "Float64\n",
      "Bool\n",
      "String\n",
      "Char\n"
     ]
    }
   ],
   "source": [
    "first = 1\n",
    "\n",
    "println(typeof(first))\n",
    "\n",
    "second = 22.0\n",
    "\n",
    "println(typeof(second))\n",
    "\n",
    "third = true\n",
    "println(typeof(third))\n",
    "\n",
    "fourth = \"Hello World!\"\n",
    "println(typeof(fourth))\n",
    "\n",
    "fifth = 'L'\n",
    "println(typeof(fifth))"
   ]
  },
  {
   "cell_type": "markdown",
   "metadata": {},
   "source": [
    "`String` needs to be in double quotes or triple quotes. If we put `String` in single quote, it will show error. Only `Character` will be in single quote."
   ]
  },
  {
   "cell_type": "code",
   "execution_count": 3,
   "metadata": {},
   "outputs": [
    {
     "ename": "LoadError",
     "evalue": "syntax: invalid character literal",
     "output_type": "error",
     "traceback": [
      "syntax: invalid character literal",
      ""
     ]
    }
   ],
   "source": [
    "#This is an intenional error\n",
    "\n",
    "strr = 'Hello world'\n",
    "println(strr)"
   ]
  },
  {
   "cell_type": "markdown",
   "metadata": {},
   "source": [
    "### Constant\n",
    "\n",
    "To declare a constant we need to use `const` keyword. After defining a constant we can redefine it but it will give us a warning. We onlu can redefine in the same datatype. Suppose: we created a constant with integer datatype with a value so we can redefine with another integer value though it will give a warning, but we can not redefine with another datatype. It will give an error."
   ]
  },
  {
   "cell_type": "code",
   "execution_count": 4,
   "metadata": {},
   "outputs": [
    {
     "name": "stdout",
     "output_type": "stream",
     "text": [
      "2\n",
      "3\n"
     ]
    },
    {
     "name": "stderr",
     "output_type": "stream",
     "text": [
      "WARNING: redefining constant var1\n"
     ]
    },
    {
     "ename": "ErrorException",
     "evalue": "invalid redefinition of constant var1",
     "output_type": "error",
     "traceback": [
      "invalid redefinition of constant var1",
      "",
      "Stacktrace:",
      " [1] top-level scope at In[4]:5"
     ]
    }
   ],
   "source": [
    "const var1 = 2\n",
    "println(var1)\n",
    "var1 = 3\n",
    "println(var1)\n",
    "\n",
    "#this will give error\n",
    "var1 = 4.9\n",
    "println(var1)"
   ]
  },
  {
   "cell_type": "markdown",
   "metadata": {},
   "source": [
    "### Strings\n",
    "\n",
    "As we have mentioned earlier, `String` needs to be in double or triple quotes.\n",
    "\n",
    "```julia\n",
    "mystr = \"Hey this is a string\"\n",
    "\n",
    "mystr2 = \"\"\"\n",
    "    this is a multiple line string\n",
    "    this string has 2 lines\n",
    "    \"\"\"\n",
    "\n",
    "```\n",
    "\n",
    "We can see the length of a string using the `length` function."
   ]
  },
  {
   "cell_type": "code",
   "execution_count": 5,
   "metadata": {},
   "outputs": [
    {
     "name": "stdout",
     "output_type": "stream",
     "text": [
      "20\n"
     ]
    }
   ],
   "source": [
    "mystr = \"Hey this is a string\"\n",
    "\n",
    "println(length(mystr))"
   ]
  },
  {
   "cell_type": "markdown",
   "metadata": {},
   "source": [
    "#### Taking seperate characters from string\n",
    "\n",
    "We can access seperate characters from the string using index. Here we need to keep in mind unlike other programming language, `Julia` access its first character from a string using index 1. Suppose in `mystr` we want access the first character `H` , so we need to access it using `mystr[1]`. Now, if we want to access the last character of a string we need to use the `end` keyword. So, in `mystr` the last character is `g` and we can access it by using `mystr[end]`."
   ]
  },
  {
   "cell_type": "code",
   "execution_count": 6,
   "metadata": {},
   "outputs": [
    {
     "name": "stdout",
     "output_type": "stream",
     "text": [
      "H\n",
      "g\n"
     ]
    }
   ],
   "source": [
    "println(mystr[1])\n",
    "println(mystr[end])"
   ]
  },
  {
   "cell_type": "markdown",
   "metadata": {},
   "source": [
    "#### Substring\n",
    "\n",
    "We also can get a substring from a string by slicing it. To do that we need to use `:` this. Suppose we want `this` as substring from `mystr` string. So, `this` started from index number `5` and ended in index number `8`. Then we need to access it using `mystr[5:8]`."
   ]
  },
  {
   "cell_type": "code",
   "execution_count": 7,
   "metadata": {},
   "outputs": [
    {
     "name": "stdout",
     "output_type": "stream",
     "text": [
      "this\n"
     ]
    }
   ],
   "source": [
    "println(mystr[5:8])"
   ]
  },
  {
   "cell_type": "markdown",
   "metadata": {},
   "source": [
    "#### String Concatenation\n",
    "\n",
    "To concatenate one string with another we need to use `*` keyword. Suppose we have two strings. `str1 = \"Hello\"` and `str2 = \"World\"`. We can merge them like this:"
   ]
  },
  {
   "cell_type": "code",
   "execution_count": 8,
   "metadata": {},
   "outputs": [
    {
     "name": "stdout",
     "output_type": "stream",
     "text": [
      "Hello, World\n"
     ]
    }
   ],
   "source": [
    "str1 = \"Hello\"\n",
    "str2 = \"World\"\n",
    "\n",
    "println(str1 * \", \" * str2)"
   ]
  },
  {
   "cell_type": "markdown",
   "metadata": {},
   "source": [
    "Thats it for this tutorial.\n",
    "\n",
    "Good Luck! "
   ]
  },
  {
   "cell_type": "code",
   "execution_count": null,
   "metadata": {},
   "outputs": [],
   "source": []
  }
 ],
 "metadata": {
  "kernelspec": {
   "display_name": "Julia 1.4.1",
   "language": "julia",
   "name": "julia-1.4"
  },
  "language_info": {
   "file_extension": ".jl",
   "mimetype": "application/julia",
   "name": "julia",
   "version": "1.4.1"
  }
 },
 "nbformat": 4,
 "nbformat_minor": 2
}
