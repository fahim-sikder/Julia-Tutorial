{
 "cells": [
  {
   "cell_type": "markdown",
   "metadata": {},
   "source": [
    "## Introduction and Installations\n",
    "\n",
    "`Julia` is a open source programming language. To install it you need to download it's binary from [here](https://julialang.org/downloads/). We are going to use `Jupyter Notebook` as the code editor. But to do that we need to link the `Jupyter Notebook` with `Julia`. After installing `Julia`, open the Julia Command prompt. Then type the following code:\n",
    "\n",
    "```julia\n",
    "\n",
    "using Pkg\n",
    "Pkg.add(\"IJulia\")\n",
    "\n",
    "\n",
    "```\n",
    "\n",
    "These will integrate `Julia` environment with `Jupyter Notebbok`.\n",
    "\n",
    "N.B: We are assuming that your system has already Jupyter notebook installed.\n",
    "\n",
    "\n",
    "`Julia` file has `.jl` extensions. It's time to write our first program. We will print `Hello Julia!`. The print function in `julia` is `println`."
   ]
  },
  {
   "cell_type": "code",
   "execution_count": 1,
   "metadata": {},
   "outputs": [
    {
     "name": "stdout",
     "output_type": "stream",
     "text": [
      "Hello Julia!\n"
     ]
    }
   ],
   "source": [
    "println(\"Hello Julia!\")"
   ]
  },
  {
   "cell_type": "markdown",
   "metadata": {},
   "source": [
    "Congratulations! You have just run your first "
   ]
  }
 ],
 "metadata": {
  "kernelspec": {
   "display_name": "Julia 1.4.2",
   "language": "julia",
   "name": "julia-1.4"
  },
  "language_info": {
   "file_extension": ".jl",
   "mimetype": "application/julia",
   "name": "julia",
   "version": "1.4.2"
  }
 },
 "nbformat": 4,
 "nbformat_minor": 2
}
