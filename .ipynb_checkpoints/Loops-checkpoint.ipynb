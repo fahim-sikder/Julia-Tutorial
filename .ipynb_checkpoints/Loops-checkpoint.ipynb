{
 "cells": [
  {
   "cell_type": "markdown",
   "metadata": {},
   "source": [
    "## Loops\n",
    "\n",
    "In this notebook we are going to learn about iterations or loops. Julia supports `while` and `for` loop. The structure of while loop is:\n",
    "\n",
    "```julia\n",
    "\n",
    "while **condition**\n",
    "    **body**    \n",
    "end\n",
    "\n",
    "```\n",
    "\n",
    "And the structure of `for` loop is:\n",
    "\n",
    "```julia\n",
    "\n",
    "for **var** in **range**\n",
    "    **body**    \n",
    "end\n",
    "\n",
    "```\n",
    "\n",
    "Let's see some example using `while` loop first. We will going to print 1 to 5 using while loop."
   ]
  },
  {
   "cell_type": "code",
   "execution_count": 1,
   "metadata": {},
   "outputs": [
    {
     "name": "stdout",
     "output_type": "stream",
     "text": [
      "The value of i is : 1\n",
      "The value of i is : 2\n",
      "The value of i is : 3\n",
      "The value of i is : 4\n",
      "The value of i is : 5\n"
     ]
    }
   ],
   "source": [
    "i = 1\n",
    "\n",
    "while i<=5\n",
    "    println(\"The value of i is : \", i)\n",
    "    i += 1\n",
    "end"
   ]
  },
  {
   "cell_type": "markdown",
   "metadata": {},
   "source": [
    "Now lets implement the same thing using `for` loop."
   ]
  },
  {
   "cell_type": "code",
   "execution_count": 2,
   "metadata": {},
   "outputs": [
    {
     "name": "stdout",
     "output_type": "stream",
     "text": [
      "The value of i is: 1\n",
      "The value of i is: 2\n",
      "The value of i is: 3\n",
      "The value of i is: 4\n",
      "The value of i is: 5\n"
     ]
    }
   ],
   "source": [
    "for i in 1:5\n",
    "    println(\"The value of i is: \", i)\n",
    "end"
   ]
  },
  {
   "cell_type": "markdown",
   "metadata": {},
   "source": [
    "Now, lets implement fibonacci series using `for` loop. We will going to generate first 6 digits of the fibonacci series."
   ]
  },
  {
   "cell_type": "code",
   "execution_count": 3,
   "metadata": {},
   "outputs": [
    {
     "name": "stdout",
     "output_type": "stream",
     "text": [
      " 0 1 1 2 3 5"
     ]
    }
   ],
   "source": [
    "t, l = 0,1\n",
    "\n",
    "for i in 1:6\n",
    "    print(' ',t)\n",
    "    item = t + l\n",
    "    t = l\n",
    "    l = item\n",
    "end"
   ]
  },
  {
   "cell_type": "markdown",
   "metadata": {},
   "source": [
    "It's time to implement fibonacci series using `while` loop."
   ]
  },
  {
   "cell_type": "code",
   "execution_count": 4,
   "metadata": {},
   "outputs": [
    {
     "name": "stdout",
     "output_type": "stream",
     "text": [
      " 0 1 1 2 3 5"
     ]
    }
   ],
   "source": [
    "t, l = 0, 1\n",
    "i = 1\n",
    "while i <= 6\n",
    "    i += 1\n",
    "    print(' ', t)\n",
    "    item = t+l\n",
    "    t = l\n",
    "    l = item   \n",
    "end"
   ]
  },
  {
   "cell_type": "markdown",
   "metadata": {},
   "source": [
    "Now, we will implement nested loop. We will going to print the following pattern.\n",
    "\n",
    "1\\\n",
    "11\\\n",
    "111\\\n",
    "1111\\\n",
    "11111"
   ]
  },
  {
   "cell_type": "code",
   "execution_count": 5,
   "metadata": {},
   "outputs": [
    {
     "name": "stdout",
     "output_type": "stream",
     "text": [
      "1\n",
      "11\n",
      "111\n",
      "1111\n",
      "11111\n"
     ]
    }
   ],
   "source": [
    "for i in 1:5\n",
    "    for j in 1:i\n",
    "        print(\"1\")\n",
    "    end\n",
    "    println(\"\")\n",
    "end"
   ]
  },
  {
   "cell_type": "markdown",
   "metadata": {},
   "source": [
    "**Special Note:** It is preety important to finish the loop using `end` keyword everytime.\n",
    "\n",
    "Good Luck! \n",
    "\n",
    "_May the Julia be with you!_"
   ]
  },
  {
   "cell_type": "code",
   "execution_count": null,
   "metadata": {},
   "outputs": [],
   "source": []
  }
 ],
 "metadata": {
  "kernelspec": {
   "display_name": "Julia 1.4.1",
   "language": "julia",
   "name": "julia-1.4"
  },
  "language_info": {
   "file_extension": ".jl",
   "mimetype": "application/julia",
   "name": "julia",
   "version": "1.4.1"
  }
 },
 "nbformat": 4,
 "nbformat_minor": 2
}
